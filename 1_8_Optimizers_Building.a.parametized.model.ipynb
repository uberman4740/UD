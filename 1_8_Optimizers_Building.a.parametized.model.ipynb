{
 "cells": [
  {
   "cell_type": "markdown",
   "metadata": {},
   "source": [
    "[Get scipy optimizer to minimize the function](#SPO)<br>\n",
    "[Convex function](#Convex function)<br>\n",
    "[Building a parameterized model](#Building a parameterized model)<br>\n",
    "[Polynomials](#Polynomials)<br>"
   ]
  },
  {
   "cell_type": "code",
   "execution_count": 19,
   "metadata": {
    "collapsed": false
   },
   "outputs": [
    {
     "name": "stdout",
     "output_type": "stream",
     "text": [
      "Populating the interactive namespace from numpy and matplotlib\n"
     ]
    },
    {
     "data": {
      "text/html": [
       "<style>\n",
       "\n",
       "td {\n",
       "   \n",
       "}\n",
       "\n",
       "div.text_cell_render {\n",
       "    /*font-family: \"Helvetica Neue\", Arial, Helvetica, Geneva, sans-serif;*/\n",
       "    font-family: \"Source Sans Pro\", \n",
       "    line-height: 145%; /* added for some line spacing of text. */\n",
       "    font-size: 14px;\n",
       "    padding-bottom: 0px !important;\n",
       "    margin-bottom:0px !important;\n",
       "    \n",
       "\n",
       "}\n",
       "\n",
       "\n",
       "h5 {\n",
       "    margin-top:0px !important;\n",
       "    padding-top: 0px !important;\n",
       "    padding-bottom: 0px !important;\n",
       "    margin-bottom:0px !important;\n",
       "    font-size: 14px !important;\n",
       "    font-style: normal !important; \n",
       "    color: mediumorchid;\n",
       "    font-style: italic !important; \n",
       "    \n",
       "}\n",
       "\n",
       "a { \n",
       "   cursor: pointer;\n",
       "   text-decoration: none;\n",
       "   color: #000;\n",
       "}\n",
       "               \n",
       "ul li { \n",
       "   padding-top: 3px;\n",
       "   padding-bottom: 3px;\n",
       "   margin-top: 0px;\n",
       "   margin-bottom: 0px;\n",
       "}\n",
       "\n",
       "ol li { \n",
       "   padding-top: 5px;\n",
       "   padding-bottom: 5px;\n",
       "   margin-top: 0px;\n",
       "   margin-bottom: 0px;\n",
       "}\n",
       "\n",
       "h1 {\n",
       "    font-size: 35px;\n",
       "    margin-top:30px;\n",
       "    margin-bottom:18px;\n",
       "    font-weight: bold;\n",
       "    color: black; \n",
       "    border-top: 1px solid black;\n",
       "    padding-top: 20px;\n",
       "    border-top-width: thick;\n",
       "}\n",
       "\n",
       "h2 {\n",
       "    margin-top:30px;\n",
       "    font-size: 26px !important;\n",
       "    font-weight: bold;\n",
       "    color: darkblue;\n",
       "    border-top: 1px solid lightgrey;\n",
       "    padding-top: 20px;\n",
       "    border-top-width:thick;\n",
       "}\n",
       "\n",
       "h3 {\n",
       "    font-size: 24px !important;\n",
       "    /* font-weight: bold; */\n",
       "    font-weight: 500 !important;\n",
       "    color: darkred;\n",
       "    border-top: 1px solid lightgrey;\n",
       "    padding-top: 8px;\n",
       "    border-top-width:medium;\n",
       "}\n",
       "\n",
       "h4 {\n",
       "    font-size: 22px !important;\n",
       "    color: darkmagenta;\n",
       "    font-weight: 500 !important;\n",
       "    border-top: 1px solid lightgrey;\n",
       "    padding-top: 8px;\n",
       "    border-top-width:thin;\n",
       "    /*\n",
       "\n",
       "\n",
       "    border-top: 1px solid lightgrey;\n",
       "    padding-top: 8px;\n",
       "    border-top-width:thin;*/\n",
       "}\n",
       "\n",
       "\n",
       "h6 {\n",
       "    margin-top:30px;\n",
       "    font-size: 14px;\n",
       "    font-weight: bold;\n",
       "    font-family: Source Sans Pro;\n",
       "    text-align: right;    \n",
       "}\n",
       "\n",
       "blockquote {\n",
       "    font-size: 14px;\n",
       "    text-decoration: none;\n",
       "}\n",
       "\n",
       "*?\n",
       "</style>"
      ],
      "text/plain": [
       "<IPython.core.display.HTML object>"
      ]
     },
     "execution_count": 19,
     "metadata": {},
     "output_type": "execute_result"
    }
   ],
   "source": [
    "from IPython.core.display import HTML\n",
    "import os\n",
    "\n",
    "import os\n",
    "# import re\n",
    "import pprint as pp\n",
    "import pandas as pd\n",
    "import numpy as np\n",
    "import matplotlib.pyplot as plt\n",
    "%matplotlib inline\n",
    "%pylab inline\n",
    "pylab.rcParams['figure.figsize'] = (12, 6)\n",
    "\n",
    "from IPython.display import Image\n",
    "from urllib import urlretrieve\n",
    "\n",
    "HTML(os.path.join(os.pardir, r'golems/css_theme.txt'))"
   ]
  },
  {
   "cell_type": "code",
   "execution_count": 21,
   "metadata": {
    "collapsed": false
   },
   "outputs": [],
   "source": [
    "def get_data(symbols, dates):\n",
    "    \"\"\"Read stock data (adjusted close) for given symbols from CSV files.\"\"\"\n",
    "    df = pd.DataFrame(index = dates)\n",
    "    if 'SPY' not in symbols:          # add SPY for reference, if absent\n",
    "        symbols.insert(0,'SPY')       # insert SPY in position 0 of symbol list\n",
    "    for symbol in symbols:\n",
    "        df_temp = pd.read_csv(symbol_to_path(symbol), \n",
    "                          index_col = 'Date',\n",
    "                          parse_dates = True,\n",
    "                          usecols = ['Date', 'Adj Close'],\n",
    "                          na_values = ['nan'])\n",
    "        df_temp = df_temp.rename(columns = {'Adj Close' : symbol})\n",
    "        if symbol == 'SPY': df = df.join(df_temp, how = 'inner')\n",
    "        # use an inner join with SPY data to get rid of non-market trading days\n",
    "        # alternate solution: df.dropna(subset = ['SPY']) # drops rows with NaNs\n",
    "        else: df = df.join(df_temp)\n",
    "    return df.sort_index() # return results sorted by ascending datetime index\n",
    "\n",
    "def symbol_to_path(symbol, base_dir = \"data\"):\n",
    "    \"\"\"Return CSV file path given ticker symbol\"\"\"\n",
    "    return os.path.join(base_dir, \"{}.csv\".format(str(symbol)))\n",
    "\n",
    "def plot_data(df):\n",
    "    \"\"\"plot stock prices\"\"\"\n",
    "    df.plot()\n",
    "    plt.show()  # must be called to show plots in some environments\n",
    "\n",
    "def plot_data2(df, title = \"Stock Chart\", xlabel = \"x label\", ylabel = \"y label\", size = 14):\n",
    "    ax = df.plot(title = title, fontsize = 12)\n",
    "    ax.set_xlabel(xlabel, fontsize = size)\n",
    "    ax.set_ylabel(ylabel, fontsize = size) \n",
    "    plt.show()  # must be called to show plots in some environments\n",
    "    \n",
    "def compute_daily_returns(df):\n",
    "    daily_returns = df.copy() # to make a copy that doesn't change when df does\n",
    "    daily_returns[1:] = (df[1:] / df[:-1].values) - 1\n",
    "    daily_returns.ix[0, :] = 0  # set daily resturns from row 0 to 0\n",
    "    return daily_returns"
   ]
  },
  {
   "cell_type": "markdown",
   "metadata": {
    "collapsed": false
   },
   "source": [
    "<img src='pics/Snap35.jpg' alt='Drawing' style='width: 300pt;'/>"
   ]
  },
  {
   "cell_type": "markdown",
   "metadata": {
    "collapsed": false
   },
   "source": [
    "<img src='pics/Snap36.jpg' alt='Drawing' style='width: 300pt;'/>"
   ]
  },
  {
   "cell_type": "markdown",
   "metadata": {},
   "source": [
    "Optimizer (Gradient descent) calls the function many times to see which values of x minimize values of f(x)."
   ]
  },
  {
   "cell_type": "markdown",
   "metadata": {},
   "source": [
    "## Get scipy's optimizer to minimize the function <a id='SPO'></a>"
   ]
  },
  {
   "cell_type": "code",
   "execution_count": 32,
   "metadata": {
    "collapsed": false
   },
   "outputs": [
    {
     "name": "stdout",
     "output_type": "stream",
     "text": [
      "X = [ 2.], y = [ 0.75]\n",
      "X = [ 2.], y = [ 0.75]\n",
      "X = [ 2.00000001], y = [ 0.75000001]\n",
      "X = [ 0.99999999], y = [ 0.75000001]\n",
      "X = [ 1.5], y = [ 0.5]\n",
      "X = [ 1.5], y = [ 0.5]\n",
      "X = [ 1.50000001], y = [ 0.5]\n",
      "Optimization terminated successfully.    (Exit mode 0)\n",
      "            Current function value: [ 0.5]\n",
      "            Iterations: 2\n",
      "            Function evaluations: 7\n",
      "            Gradient evaluations: 2\n",
      "Minima found at:\n",
      "X = [ 1.5], Y = [ 0.5]\n",
      "X = [ 0.5  0.6  0.7  0.8  0.9  1.   1.1  1.2  1.3  1.4  1.5  1.6  1.7  1.8  1.9\n",
      "  2.   2.1  2.2  2.3  2.4  2.5], y = [ 1.5   1.31  1.14  0.99  0.86  0.75  0.66  0.59  0.54  0.51  0.5   0.51\n",
      "  0.54  0.59  0.66  0.75  0.86  0.99  1.14  1.31  1.5 ]\n"
     ]
    },
    {
     "data": {
      "image/png": "[encoded data removed]",
      "text/plain": [
       "<matplotlib.figure.Figure at 0x3c85cf8>"
      ]
     },
     "metadata": {},
     "output_type": "display_data"
    }
   ],
   "source": [
    "import pandas as pd\n",
    "import matplotlib.pyplot as plt\n",
    "import numpy as np\n",
    "import scipy.optimize as spo # scipy optimizer package\n",
    "\n",
    "def f(X):\n",
    "    \"\"\"Given a scalar X, return some value (a real number).\"\"\"\n",
    "    Y = (X - 1.5)**2 + 0.5  # here we define the function\n",
    "    print \"X = {}, y = {}\".format(X, Y) # for tracing; print the value each time we get called\n",
    "    # for understanding what's going on\n",
    "    \n",
    "    return Y\n",
    "\n",
    "def test_run():\n",
    "    Xguess = 2.0  # set initial guess value\n",
    "    min_result = spo.minimize(f,                      # call to the optimizer's minimize function\n",
    "                              Xguess,                 # initial guess\n",
    "                              method = 'SLSQP',       # particular minimizing algo..expand on later\n",
    "                              options = {'disp' : True}) \n",
    "                              # means we want expanded info as an diagnostic output\n",
    "    print \"Minima found at:\"\n",
    "    print \"X = {}, Y = {}\".format(min_result.x, min_result.fun)\n",
    "    \n",
    "    # Plot function values, mark minima\n",
    "    Xplot = np.linspace(0.5, 2.5, 21)\n",
    "    Yplot = f(Xplot)\n",
    "    plt.plot(Xplot, Yplot)\n",
    "    plt.plot(min_result.x, min_result.fun, 'ro')\n",
    "    plt.title(\"Minima of an objective function\")\n",
    "    plt.show()\n",
    "\n",
    "if __name__ == \"__main__\":\n",
    "    test_run()"
   ]
  },
  {
   "cell_type": "markdown",
   "metadata": {},
   "source": [
    "**Above you see the guessing pattern of the minimizer as it quickly converges on the answer of 1.5**"
   ]
  },
  {
   "cell_type": "markdown",
   "metadata": {
    "collapsed": false
   },
   "source": [
    "<img src='pics/Snap38.jpg' alt='Drawing' style='width: 300pt;'/>"
   ]
  },
  {
   "cell_type": "markdown",
   "metadata": {},
   "source": [
    "1. No gradient to follow if initial guess on the flat part of the function.\n",
    "1. One local minima, and two global minima of equal value. \n",
    "1. Not hard for the minimizer to solve\n",
    "1. the discontinuity would be tough, and the flat part."
   ]
  },
  {
   "cell_type": "markdown",
   "metadata": {},
   "source": [
    "There are some optimizers that can solve these problems with varying degrees of success. And they're likely to find a minima, just not guaranteed to find the minima.\n"
   ]
  },
  {
   "cell_type": "markdown",
   "metadata": {},
   "source": [
    "\n",
    "## Convex function <a id='Convex function'></a>\n",
    "\n",
    "Type of problems that are particularly easy for algorithms to solve. \n",
    "\n",
    "Wikipedia: \"... a real-valued function f(x) defined on an interval is called convex if the line segment between any two points on the graph of the function lies above the graph ...\"[[link]](http://en.wikipedia.org/wiki/Convex_function)"
   ]
  },
  {
   "cell_type": "markdown",
   "metadata": {},
   "source": [
    "If the line is above the graph, then the function is convex btn those pts.\n",
    "\n",
    "* only 1 local and global minima. The middle fn fails for that reason\n",
    "* we can't have flat regions that don't slope downward\n"
   ]
  },
  {
   "cell_type": "markdown",
   "metadata": {
    "collapsed": false
   },
   "source": [
    "<img src='pics/Snap39.jpg' alt='Drawing' style='width: 300pt;'/>"
   ]
  },
  {
   "cell_type": "markdown",
   "metadata": {
    "collapsed": false,
    "scrolled": true
   },
   "source": [
    "<img src='pics/Snap40.jpg' alt='Drawing' style='width: 300pt;'/>"
   ]
  },
  {
   "cell_type": "markdown",
   "metadata": {},
   "source": [
    "##### It's just as easy for these optimizers to work in multiple dimensions.\n",
    "This one has two dimensions in X. It still has its y result. \n",
    "\n",
    "More than one dimension, we can have as many as we'd like."
   ]
  },
  {
   "cell_type": "markdown",
   "metadata": {
    "collapsed": false
   },
   "source": [
    "<img src='pics/Snap41.jpg' alt='Drawing' style='width: 300pt;'/>"
   ]
  },
  {
   "cell_type": "markdown",
   "metadata": {},
   "source": [
    "\n",
    "## Building a parameterized model <a id='Building a parameterized model'></a>\n",
    "\n",
    "$f(x) = mx + b $ is an example of a parameter as model that you're probably familiar with from algebra. \n",
    "\n",
    "$m$ and $b$ (equation of a line)\n",
    "\n",
    "for convenience in our code instead of using m and b I'm gonna use $C_0$ and $C_1$ just to be consistent.\n",
    "\n",
    "Suppose we have some data from an experiment now this can work for many sorts of experiments but for now let's assume we've taken some measurements have humidity and we've observed on those particular days we measure the humidity, how much it rains.\n",
    "\n",
    "* so each dot here represents one day and one sample data. \n",
    "\n",
    "when we look at this data we see there's a kind of relationship here and our intuition is maybe that it could be fitted by a line. \n",
    "\n",
    "our task is to find $C_0$ and $C_1$ that provide the equation for this line that best fits the data the question here is how do we frame this problem so that it makes sense for the minimizer. \n",
    "* What is it we're trying to minimize? "
   ]
  },
  {
   "cell_type": "markdown",
   "metadata": {
    "collapsed": false
   },
   "source": [
    "<img src='pics/Snap42.jpg' alt='Drawing' style='width: 300pt;'/>"
   ]
  },
  {
   "cell_type": "markdown",
   "metadata": {},
   "source": [
    "So restating the problem. We're trying to discover the equation of a line that best fits those points. Suppose this blue line is a candidate line and we want to evaluate it. Is this good or bad. So the equation for that line is our first coefficient times $X$ plus the second coefficient and what the minimizer is going to do, is its going to vary this $C_0$ and $C_1$ to try and minimize something. \n",
    "\n",
    "* we have to come up with an equation that get lower in value as this line better fits the data. What should we use for that equation. \n",
    "\n",
    "* one step toward solving this problem: we can take a look at each one of the  original data points and observe how far away it is from this line that we're evaluating. Let's call each of these distances $e$."
   ]
  },
  {
   "cell_type": "markdown",
   "metadata": {
    "collapsed": false
   },
   "source": [
    "<img src='pics/Snap44.jpg' alt='Drawing' style='width: 300pt;'/>"
   ]
  },
  {
   "cell_type": "markdown",
   "metadata": {},
   "source": [
    "#### The equation we want the minimizer to minimize is the error (as measured by squared error)."
   ]
  },
  {
   "cell_type": "code",
   "execution_count": 41,
   "metadata": {
    "collapsed": true
   },
   "outputs": [],
   "source": [
    "import scipy.optimize as spo\n",
    "\n",
    "def error(line,data): # error function\n",
    "    \"\"\"compute error btn given line model and observed data.\n",
    "    \n",
    "    Parameters\n",
    "    -----------\n",
    "    line: tuple/list/array (C0, C1) where CO is slope and C1 is Y-intercept\n",
    "    data: 2d array where each row is a point (x, y)\n",
    "    \n",
    "    returns error as a single real value.\n",
    "    \"\"\"\n",
    "    \n",
    "    # Metric: Sum of squared Y-axis differences\n",
    "    err = np.sum((data[:, 1] - (line[0] * data[:, 0] + line[1])) ** 2)\n",
    "    return err\n",
    "\n",
    "    "
   ]
  },
  {
   "cell_type": "code",
   "execution_count": 42,
   "metadata": {
    "collapsed": false
   },
   "outputs": [],
   "source": [
    "def fit_line(data, error_func):\n",
    "    \"\"\"fit a line to given data, using a supplied error function.\n",
    "    \n",
    "    Parameters\n",
    "    -----------\n",
    "    data: 2D array where each row is a point (X0, Y)\n",
    "    error_func: function that computes the error between a line and observed data\n",
    "    \n",
    "    Returns line that minimizes the error function\n",
    "        \"\"\"\n",
    "    \n",
    "    # Generate inital guess for line model\n",
    "    l = np.float32([0, np.mean(data[:,1])]) # slope = 0, intercept = mean(y values)\n",
    "    \n",
    "    #plot initial guess (optional)\n",
    "    x_ends = np.float32([-5,5])\n",
    "    plt.plot(x_ends, \n",
    "             l[0] * x_ends + l[1], \n",
    "             'm--', linewidth = 2.0, label = \"Initial guess\")\n",
    "    \n",
    "    # call optimizer to minimize error function\n",
    "    result = spo.minimize(error_func,                 # fn we're trying to minimize (before the _)\n",
    "                          l,                          # initial guess\n",
    "                          args=(data,),               # defines how we pass data to our error fn\n",
    "                          method = 'SLSQP',           # the method we're gonna use\n",
    "                          options = {'disp' : True})  # set display to true, \n",
    "                                                      # so we'll see information during optimization\n",
    "    return result.x"
   ]
  },
  {
   "cell_type": "code",
   "execution_count": 158,
   "metadata": {
    "collapsed": false
   },
   "outputs": [
    {
     "name": "stdout",
     "output_type": "stream",
     "text": [
      "Original line: C0 = 4.0, C1 = 2.0\n",
      "Optimization terminated successfully.    (Exit mode 0)\n",
      "            Current function value: 259.564318908\n",
      "            Iterations: 5\n",
      "            Function evaluations: 24\n",
      "            Gradient evaluations: 5\n",
      "Fitted line: C0 = 4.07254500109, C1 = 1.63993442294\n"
     ]
    },
    {
     "data": {
      "image/png": "[encoded data removed]",
      "text/plain": [
       "<matplotlib.figure.Figure at 0x2009fba8>"
      ]
     },
     "metadata": {},
     "output_type": "display_data"
    }
   ],
   "source": [
    "def test_run():\n",
    "    # Define original line (the minimizer doesn't know this)\n",
    "    # we're testing to see of the minimizer can discover the equation of this line.\n",
    "    l_orig = np.float32([4,2]) # slope of 4, y-intercept of 2\n",
    "    \n",
    "    # plot original line\n",
    "    print \"Original line: C0 = {}, C1 = {}\".format(l_orig[0], l_orig[1])\n",
    "    Xorig = np.linspace(0, 10, 21)  # generate x values to plug into l_orig\n",
    "    Yorig = l_orig[0] * Xorig + l_orig[1]  # generate y valuess\n",
    "    plt.plot(Xorig, Yorig, 'c-', linewidth=2.0, label = \"Original line\")\n",
    "\n",
    "    # Generate noisy data points around the original line (l_orig)\n",
    "    noise_sigma = 3.0\n",
    "    noise = np.random.normal(0, noise_sigma, Yorig.shape) # use np random fn to generate noise\n",
    "    data = np.asarray([Xorig, Yorig + noise]).T   # at each point in the data we add some noise\n",
    "    plt.plot(data[:,0], data[:, 1], 'go', label = \"Data points\")\n",
    "    # we're gonna challenge our minimizer to find the equation for the original line even though\n",
    "    # there's noise\n",
    "\n",
    "    # Try to fit a line to this data. We wrote a separate fn \n",
    "    # fit_line that takes the data and the error fn we defined\n",
    "    # and finds the eqn for that line.\n",
    "    l_fit = fit_line(data, error) # data here is noisy data. we took our line and added noise\n",
    "    # and the error fn. The fn we're trying to minimize\n",
    "    \n",
    "    print \"Fitted line: C0 = {}, C1 = {}\".format(l_fit[0], l_fit[1])\n",
    "    plt.plot(data[:,0], l_fit[0] * data[:,0] + l_fit[1], 'b--', \n",
    "             linewidth = 2.0, label = \"Fitted line\")\n",
    "    plt.legend(loc=0)\n",
    "\n",
    "    \n",
    "test_run()\n",
    "    "
   ]
  },
  {
   "cell_type": "markdown",
   "metadata": {},
   "source": [
    "##### Instructor Notes\n",
    "\n",
    "Minor comment on output plot: The Initial guess (purple) line has been plotted between different X-axis limits because it is generated from within fit_line() which has no idea about what the intended limits are.\n",
    "\n",
    "Think of these lines as extending infinitely on either end."
   ]
  },
  {
   "cell_type": "markdown",
   "metadata": {},
   "source": [
    "\n",
    "## Polynomials <a id='Polynomials'></a>"
   ]
  },
  {
   "cell_type": "code",
   "execution_count": 137,
   "metadata": {
    "collapsed": true
   },
   "outputs": [],
   "source": [
    "def error_poly(C, data):\n",
    "    \"\"\"Compute error btn given polynomial and observed data.\n",
    "    this is the error function we're trying to minimize\n",
    "    \n",
    "    Parameters\n",
    "    ----------\n",
    "    C: numpy.poly1d object or equivalent array representing polynomial coefficients\n",
    "    data: 2d array where each row is a point (x,y)\n",
    "    \n",
    "    returns error as a single real value.\"\"\"\n",
    "    \n",
    "    # Metric: Sum of squared Y-axis differences\n",
    "    err = np.sum((data[:, 1] - np.polyval(C, data[:, 0])) ** 2) \n",
    "    # sum of the diff btn actual y and polynomial predicted y squared\n",
    "    \n",
    "    return err\n",
    "\n"
   ]
  },
  {
   "cell_type": "code",
   "execution_count": 138,
   "metadata": {
    "collapsed": true
   },
   "outputs": [],
   "source": [
    "def fit_poly(data, error_func, degree = 3): # degree of the polynomial\n",
    "    \"\"\"Fit a polynomial to given data, using supplied error function\n",
    "    \n",
    "    Parameters\n",
    "    ----------\n",
    "    data: 2D array where each row is a point (x, y)\n",
    "    error_func: fn that computes the error btn a polynomial and obberved data\n",
    "    \n",
    "    Returns polynomial that minimizes the error fn.\n",
    "    \"\"\"\n",
    "    \n",
    "    # Generates initial guess for polynomial model (all coeffs = 1)\n",
    "    Cguess = np.poly1d(np.ones(degree + 1, dtype=np.float32))\n",
    "    # Cguess = poly1d([ 1.,  1.,  1.,  1.], dtype=float32)\n",
    "    \n",
    "    # Plot initial guess (optional)\n",
    "    x = np.linspace(-5, 5, 21) # Return evenly spaced numbers over a specified interval\n",
    "    plt.plot(x, np.polyval(Cguess, x), 'm--', linewidth = 2.0, label = 'Initial guess')\n",
    "    \n",
    "    result = spo.minimize(error_func,                 # fn we're trying to minimize\n",
    "                          Cguess,                     # initial guess\n",
    "                          args=(data,),               # defines how we pass data to our error fn\n",
    "                          method = 'SLSQP',           # the method we're gonna use\n",
    "                          options = {'disp' : True})  # set display to true, \n",
    "                                                      # so we'll see more information\n",
    "        \n",
    "    return np.poly1d(result.x) # convert optimal result into a poly1d object and return"
   ]
  },
  {
   "cell_type": "code",
   "execution_count": 163,
   "metadata": {
    "collapsed": false
   },
   "outputs": [
    {
     "name": "stdout",
     "output_type": "stream",
     "text": [
      "Original polynomial:\n",
      "     4      3     2\n",
      "1.5 x - 10 x - 5 x + 60 x + 50\n",
      "noise:  [-43.90303892  -2.82859238  32.5436962   16.48613584   0.36523117\n",
      "  41.11436461  45.709224   -36.85350284 -22.94504675 -21.27419797\n",
      "  -7.87445777  22.88614635 -10.185754    -2.2064181   36.89975049\n",
      "  34.1101085  -15.73520313  66.87570992  48.40920145 -31.02372314\n",
      "  18.45059016]\n",
      "Optimization terminated successfully.    (Exit mode 0)\n",
      "            Current function value: 13107.6921994\n",
      "            Iterations: 8\n",
      "            Function evaluations: 74\n",
      "            Gradient evaluations: 8\n",
      "Fitted polynomial: \n",
      "       4        3         2\n",
      "1.211 x - 9.91 x + 1.742 x + 60.74 x + 39.77\n"
     ]
    },
    {
     "data": {
      "image/png": "[encoded data removed]",
      "text/plain": [
       "<matplotlib.figure.Figure at 0x20be3240>"
      ]
     },
     "metadata": {},
     "output_type": "display_data"
    }
   ],
   "source": [
    "def test_run():\n",
    "    # Define original line (the minimizer doesn't know this)\n",
    "    # we're testing to see of the minimizer can discover the following equation.\n",
    "    l_orig = np.poly1d([1.5, -10, -5, 60, 50])\n",
    "    \n",
    "    # plot the original line\n",
    "    print \"Original polynomial:\"\n",
    "    print l_orig\n",
    "    Xorig = np.linspace(-5, 5, 21)     # x values passed to original line\n",
    "    Yorig = np.polyval(l_orig, Xorig)  # associated y values of original line\n",
    "    plt.plot(Xorig, Yorig, \n",
    "             'c-', linewidth=2.0, label = \"Original line\")\n",
    "\n",
    "    # Generate noisy data points around the original line (l_orig)\n",
    "    noise_sigma = 3.0\n",
    "    noise = np.random.normal(0, noise_sigma, Yorig.shape) * 10\n",
    "    # use np random fn to generate noise\n",
    "    print \"noise: \", noise\n",
    "    \n",
    "    data = np.asarray([Xorig, Yorig + noise]).T   \n",
    "    # at each point in the data we add some noise\n",
    "    \n",
    "    plt.plot(data[:,0], data[:, 1], 'go', label = \"Data points\")\n",
    "    # we're gonna challenge our minimizer to find the equation for the original line even though\n",
    "    # there's noisex\n",
    "\n",
    "    # Try to fit a line to this data. We wrote a separate fn \n",
    "    # fit_line that takes the data and the error fn we defined\n",
    "    # and finds the eqn for that line.\n",
    "    l_fit = fit_poly(data, error_poly, degree = 4) # data here is noisy data. we took our line and added noise\n",
    "    # and the error fn. The fn we're trying to minimize\n",
    "  \n",
    "   \n",
    "    print \"Fitted polynomial: \"\n",
    "    print l_fit\n",
    "    plt.plot(data[:,0], \n",
    "             np.polyval(l_fit, data[:,0]),\n",
    "             'b--', \n",
    "             linewidth = 2.0, \n",
    "             label = \"Fitted line\")\n",
    "    plt.legend(loc=0)\n",
    "\n",
    "    \n",
    "test_run()\n",
    "    "
   ]
  },
  {
   "cell_type": "code",
   "execution_count": 68,
   "metadata": {
    "collapsed": false
   },
   "outputs": [
    {
     "name": "stdout",
     "output_type": "stream",
     "text": [
      "     4      3     2\n",
      "1.5 x + 10 x + 5 x + 60 x + 50\n"
     ]
    }
   ],
   "source": [
    "# ??np.linspace()\n",
    "# np.poly1d(np.ones(3 + 1, dtype=np.float32))\n",
    "print np.poly1d([1.5, 10, 5, 60, 50])\n",
    "# ??np.poly1d()"
   ]
  },
  {
   "cell_type": "markdown",
   "metadata": {},
   "source": [
    "### Code Playground"
   ]
  },
  {
   "cell_type": "code",
   "execution_count": 84,
   "metadata": {
    "collapsed": false
   },
   "outputs": [
    {
     "data": {
      "text/plain": [
       "array([-5. , -4.5, -4. , -3.5, -3. , -2.5, -2. , -1.5, -1. , -0.5,  0. ,\n",
       "        0.5,  1. ,  1.5,  2. ,  2.5,  3. ,  3.5,  4. ,  4.5,  5. ])"
      ]
     },
     "execution_count": 84,
     "metadata": {},
     "output_type": "execute_result"
    }
   ],
   "source": [
    "np.linspace(-5, 5, 21)\n",
    "# l_orig"
   ]
  }
 ],
 "metadata": {
  "kernelspec": {
   "display_name": "Python 2",
   "language": "python",
   "name": "python2"
  },
  "language_info": {
   "codemirror_mode": {
    "name": "ipython",
    "version": 2
   },
   "file_extension": ".py",
   "mimetype": "text/x-python",
   "name": "python",
   "nbconvert_exporter": "python",
   "pygments_lexer": "ipython2",
   "version": "2.7.11"
  }
 },
 "nbformat": 4,
 "nbformat_minor": 0
}
